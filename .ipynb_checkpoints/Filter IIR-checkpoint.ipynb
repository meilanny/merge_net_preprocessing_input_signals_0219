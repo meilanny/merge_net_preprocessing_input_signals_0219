{
 "cells": [
  {
   "cell_type": "code",
   "execution_count": 1,
   "id": "7bef8216",
   "metadata": {},
   "outputs": [],
   "source": [
    "import numpy as np\n",
    "from scipy import signal"
   ]
  },
  {
   "cell_type": "code",
   "execution_count": 38,
   "id": "67bdbd81",
   "metadata": {},
   "outputs": [],
   "source": [
    "nyq = 0.5 * 500\n",
    "f_low = 0.5\n",
    "f_high = 100\n",
    "order = 4\n",
    "low_freq = f_low / nyq\n",
    "high_freq = f_high / nyq\n",
    "n, d  = signal.butter(N=order, Wn=[low_freq, high_freq], btype='bandpass', output='ba')"
   ]
  },
  {
   "cell_type": "code",
   "execution_count": 39,
   "id": "f0d7cdde",
   "metadata": {},
   "outputs": [
    {
     "data": {
      "text/plain": [
       "array([ 0.045850905040736,  0.               , -0.183403620162946,\n",
       "        0.               ,  0.275105430244418,  0.               ,\n",
       "       -0.183403620162946,  0.               ,  0.045850905040736])"
      ]
     },
     "execution_count": 39,
     "metadata": {},
     "output_type": "execute_result"
    }
   ],
   "source": [
    "n"
   ]
  },
  {
   "cell_type": "code",
   "execution_count": 40,
   "id": "84759c81",
   "metadata": {},
   "outputs": [
    {
     "data": {
      "text/plain": [
       "array([  1.               ,  -4.775929246598042,   9.796453191842135,\n",
       "       -11.599870615905894,   8.99664388071919 ,  -4.746850592260966,\n",
       "         1.60721290002296 ,  -0.308310405077369,   0.030650888421364])"
      ]
     },
     "execution_count": 40,
     "metadata": {},
     "output_type": "execute_result"
    }
   ],
   "source": [
    "d"
   ]
  },
  {
   "cell_type": "code",
   "execution_count": null,
   "id": "3e4ab236",
   "metadata": {},
   "outputs": [],
   "source": []
  },
  {
   "cell_type": "code",
   "execution_count": 41,
   "id": "2c00cdb3",
   "metadata": {},
   "outputs": [],
   "source": [
    "w0 = 50/(500/2)\n",
    "Q = 30\n",
    "\n",
    "n, d = signal.iirnotch(w0, Q)"
   ]
  },
  {
   "cell_type": "code",
   "execution_count": 42,
   "id": "71c660db",
   "metadata": {},
   "outputs": [
    {
     "data": {
      "text/plain": [
       "array([ 0.989636175362892, -1.601264968233611,  0.989636175362892])"
      ]
     },
     "execution_count": 42,
     "metadata": {},
     "output_type": "execute_result"
    }
   ],
   "source": [
    "n"
   ]
  },
  {
   "cell_type": "code",
   "execution_count": 43,
   "id": "cf6d2310",
   "metadata": {},
   "outputs": [
    {
     "data": {
      "text/plain": [
       "array([ 1.               , -1.601264968233611,  0.979272350725784])"
      ]
     },
     "execution_count": 43,
     "metadata": {},
     "output_type": "execute_result"
    }
   ],
   "source": [
    "d"
   ]
  },
  {
   "cell_type": "code",
   "execution_count": null,
   "id": "b5f7f31a",
   "metadata": {},
   "outputs": [],
   "source": []
  },
  {
   "cell_type": "code",
   "execution_count": null,
   "id": "6970bbed",
   "metadata": {},
   "outputs": [],
   "source": []
  },
  {
   "cell_type": "code",
   "execution_count": null,
   "id": "6c2042c0",
   "metadata": {},
   "outputs": [],
   "source": []
  },
  {
   "cell_type": "code",
   "execution_count": 32,
   "id": "c72bb5ff",
   "metadata": {},
   "outputs": [],
   "source": [
    "nyq = 0.5 * 500\n",
    "f_low = 1\n",
    "f_high = 50\n",
    "order = 3\n",
    "low_freq = f_low / nyq\n",
    "high_freq = f_high / nyq\n",
    "\n",
    "n, d = signal.butter(N=order, Wn=[low_freq, high_freq], btype='bandpass', output='ba')"
   ]
  },
  {
   "cell_type": "code",
   "execution_count": 33,
   "id": "f8db9f89",
   "metadata": {},
   "outputs": [],
   "source": [
    "np.set_printoptions(precision=15, suppress=True)"
   ]
  },
  {
   "cell_type": "code",
   "execution_count": 36,
   "id": "c161e2fd",
   "metadata": {},
   "outputs": [
    {
     "data": {
      "text/plain": [
       "array([ 0.017191109807913,  0.               , -0.051573329423738,\n",
       "        0.               ,  0.051573329423738,  0.               ,\n",
       "       -0.017191109807913])"
      ]
     },
     "execution_count": 36,
     "metadata": {},
     "output_type": "execute_result"
    }
   ],
   "source": [
    "n"
   ]
  },
  {
   "cell_type": "code",
   "execution_count": 37,
   "id": "298e57c9",
   "metadata": {},
   "outputs": [
    {
     "data": {
      "text/plain": [
       "array([  1.               ,  -4.764804432822381,   9.497046782060329,\n",
       "       -10.184176520515678,   6.222038193995383,  -2.055665755921434,\n",
       "         0.285562022593088])"
      ]
     },
     "execution_count": 37,
     "metadata": {},
     "output_type": "execute_result"
    }
   ],
   "source": [
    "d"
   ]
  },
  {
   "cell_type": "code",
   "execution_count": null,
   "id": "f894f16c",
   "metadata": {},
   "outputs": [],
   "source": []
  },
  {
   "cell_type": "code",
   "execution_count": null,
   "id": "b31c6985",
   "metadata": {},
   "outputs": [],
   "source": []
  },
  {
   "cell_type": "code",
   "execution_count": null,
   "id": "0f44e88f",
   "metadata": {},
   "outputs": [],
   "source": []
  },
  {
   "cell_type": "code",
   "execution_count": null,
   "id": "d4c668c2",
   "metadata": {},
   "outputs": [],
   "source": []
  },
  {
   "cell_type": "code",
   "execution_count": null,
   "id": "3185a466",
   "metadata": {},
   "outputs": [],
   "source": []
  },
  {
   "cell_type": "code",
   "execution_count": null,
   "id": "edef447e",
   "metadata": {},
   "outputs": [],
   "source": []
  }
 ],
 "metadata": {
  "kernelspec": {
   "display_name": "Python 3 (ipykernel)",
   "language": "python",
   "name": "python3"
  },
  "language_info": {
   "codemirror_mode": {
    "name": "ipython",
    "version": 3
   },
   "file_extension": ".py",
   "mimetype": "text/x-python",
   "name": "python",
   "nbconvert_exporter": "python",
   "pygments_lexer": "ipython3",
   "version": "3.9.18"
  }
 },
 "nbformat": 4,
 "nbformat_minor": 5
}
